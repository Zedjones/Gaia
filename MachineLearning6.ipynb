{
 "cells": [
  {
   "cell_type": "markdown",
   "metadata": {},
   "source": [
    "## Machine Learning\n",
    "#### K-means algorithm\n",
    "*Look into heirarchical clustering\n",
    "\n",
    "Check out later:\n",
    "    https://scikit-learn.org/stable/auto_examples/cluster/plot_cluster_iris.html#sphx-glr-auto-examples-cluster-plot-cluster-iris-py"
   ]
  },
  {
   "cell_type": "code",
   "execution_count": 2,
   "metadata": {},
   "outputs": [],
   "source": [
    "import math\n",
    "import csv\n",
    "import random\n",
    "import numpy as np\n",
    "import pandas as pd\n",
    "from sklearn.decomposition import PCA\n",
    "from sklearn.cluster import KMeans\n",
    "from sklearn.preprocessing import scale\n",
    "import matplotlib\n",
    "import matplotlib.pyplot as plt\n",
    "from mpl_toolkits.mplot3d import axes3d, Axes3D\n",
    "\n",
    "def distance(x):\n",
    "    #it shouldn't be less than 0 since I'm not getting any negative parallaxes from Gaia\n",
    "    if x < 0:\n",
    "        return 0\n",
    "    else:\n",
    "        return 1/x\n",
    "def x(R, b, l):\n",
    "    return R * math.cos(b) * math.cos(l)\n",
    "\n",
    "def y(R, b, l):\n",
    "    return R * math.cos(b) * math.sin(l)\n",
    "\n",
    "def z(R, b):\n",
    "    return R * math.sin(b)\n",
    "\n",
    "def absmag(m, d):\n",
    "    return (((math.log10(d) * 5)*-1)+5)+m"
   ]
  },
  {
   "cell_type": "code",
   "execution_count": 3,
   "metadata": {},
   "outputs": [
    {
     "data": {
      "text/html": [
       "<div>\n",
       "<style scoped>\n",
       "    .dataframe tbody tr th:only-of-type {\n",
       "        vertical-align: middle;\n",
       "    }\n",
       "\n",
       "    .dataframe tbody tr th {\n",
       "        vertical-align: top;\n",
       "    }\n",
       "\n",
       "    .dataframe thead th {\n",
       "        text-align: right;\n",
       "    }\n",
       "</style>\n",
       "<table border=\"1\" class=\"dataframe\">\n",
       "  <thead>\n",
       "    <tr style=\"text-align: right;\">\n",
       "      <th></th>\n",
       "      <th>solution_id</th>\n",
       "      <th>designation</th>\n",
       "      <th>source_id</th>\n",
       "      <th>random_index</th>\n",
       "      <th>ref_epoch</th>\n",
       "      <th>ra</th>\n",
       "      <th>ra_error</th>\n",
       "      <th>dec</th>\n",
       "      <th>dec_error</th>\n",
       "      <th>parallax</th>\n",
       "      <th>...</th>\n",
       "      <th>lum_percentile_lower</th>\n",
       "      <th>lum_percentile_upper</th>\n",
       "      <th>datalink_url</th>\n",
       "      <th>epoch_photometry_url</th>\n",
       "      <th>parallax_arcsec</th>\n",
       "      <th>R</th>\n",
       "      <th>x</th>\n",
       "      <th>y</th>\n",
       "      <th>z</th>\n",
       "      <th>magnitude</th>\n",
       "    </tr>\n",
       "  </thead>\n",
       "  <tbody>\n",
       "    <tr>\n",
       "      <td>0</td>\n",
       "      <td>1635721458409799680</td>\n",
       "      <td>Gaia DR2 659477217391773696</td>\n",
       "      <td>659477217391773696</td>\n",
       "      <td>689622068</td>\n",
       "      <td>2015.5</td>\n",
       "      <td>130.230299</td>\n",
       "      <td>0.027464</td>\n",
       "      <td>18.583010</td>\n",
       "      <td>0.018048</td>\n",
       "      <td>5.313191</td>\n",
       "      <td>...</td>\n",
       "      <td>0.108493</td>\n",
       "      <td>0.111901</td>\n",
       "      <td>http://geadata.esac.esa.int/data-server/datali...</td>\n",
       "      <td>NaN</td>\n",
       "      <td>0.005313</td>\n",
       "      <td>188.210821</td>\n",
       "      <td>128.820690</td>\n",
       "      <td>-22.574302</td>\n",
       "      <td>135.347493</td>\n",
       "      <td>7.554224</td>\n",
       "    </tr>\n",
       "    <tr>\n",
       "      <td>1</td>\n",
       "      <td>1635721458409799680</td>\n",
       "      <td>Gaia DR2 659489518178180864</td>\n",
       "      <td>659489518178180864</td>\n",
       "      <td>1611306417</td>\n",
       "      <td>2015.5</td>\n",
       "      <td>130.184818</td>\n",
       "      <td>0.045786</td>\n",
       "      <td>18.656469</td>\n",
       "      <td>0.028897</td>\n",
       "      <td>5.309375</td>\n",
       "      <td>...</td>\n",
       "      <td>0.250120</td>\n",
       "      <td>0.258365</td>\n",
       "      <td>http://geadata.esac.esa.int/data-server/datali...</td>\n",
       "      <td>NaN</td>\n",
       "      <td>0.005309</td>\n",
       "      <td>188.346080</td>\n",
       "      <td>127.864328</td>\n",
       "      <td>-35.766918</td>\n",
       "      <td>133.587751</td>\n",
       "      <td>6.262174</td>\n",
       "    </tr>\n",
       "    <tr>\n",
       "      <td>2</td>\n",
       "      <td>1635721458409799680</td>\n",
       "      <td>Gaia DR2 659494740858299264</td>\n",
       "      <td>659494740858299264</td>\n",
       "      <td>642953719</td>\n",
       "      <td>2015.5</td>\n",
       "      <td>130.121572</td>\n",
       "      <td>0.097391</td>\n",
       "      <td>18.796278</td>\n",
       "      <td>0.065595</td>\n",
       "      <td>5.498319</td>\n",
       "      <td>...</td>\n",
       "      <td>NaN</td>\n",
       "      <td>NaN</td>\n",
       "      <td>http://geadata.esac.esa.int/data-server/datali...</td>\n",
       "      <td>NaN</td>\n",
       "      <td>0.005498</td>\n",
       "      <td>181.873761</td>\n",
       "      <td>116.041503</td>\n",
       "      <td>-56.391099</td>\n",
       "      <td>128.189230</td>\n",
       "      <td>10.624763</td>\n",
       "    </tr>\n",
       "    <tr>\n",
       "      <td>3</td>\n",
       "      <td>1635721458409799680</td>\n",
       "      <td>Gaia DR2 659477865932633344</td>\n",
       "      <td>659477865932633344</td>\n",
       "      <td>210732194</td>\n",
       "      <td>2015.5</td>\n",
       "      <td>130.279972</td>\n",
       "      <td>1.310465</td>\n",
       "      <td>18.626705</td>\n",
       "      <td>0.709726</td>\n",
       "      <td>5.947697</td>\n",
       "      <td>...</td>\n",
       "      <td>NaN</td>\n",
       "      <td>NaN</td>\n",
       "      <td>http://geadata.esac.esa.int/data-server/datali...</td>\n",
       "      <td>NaN</td>\n",
       "      <td>0.005948</td>\n",
       "      <td>168.132299</td>\n",
       "      <td>107.204420</td>\n",
       "      <td>-21.943910</td>\n",
       "      <td>127.648530</td>\n",
       "      <td>14.511488</td>\n",
       "    </tr>\n",
       "    <tr>\n",
       "      <td>4</td>\n",
       "      <td>1635721458409799680</td>\n",
       "      <td>Gaia DR2 659485807326329600</td>\n",
       "      <td>659485807326329600</td>\n",
       "      <td>1629776767</td>\n",
       "      <td>2015.5</td>\n",
       "      <td>129.918981</td>\n",
       "      <td>0.120637</td>\n",
       "      <td>18.616257</td>\n",
       "      <td>0.081017</td>\n",
       "      <td>5.284283</td>\n",
       "      <td>...</td>\n",
       "      <td>NaN</td>\n",
       "      <td>NaN</td>\n",
       "      <td>http://geadata.esac.esa.int/data-server/datali...</td>\n",
       "      <td>NaN</td>\n",
       "      <td>0.005284</td>\n",
       "      <td>189.240429</td>\n",
       "      <td>153.433612</td>\n",
       "      <td>-53.312623</td>\n",
       "      <td>97.097017</td>\n",
       "      <td>10.698027</td>\n",
       "    </tr>\n",
       "    <tr>\n",
       "      <td>...</td>\n",
       "      <td>...</td>\n",
       "      <td>...</td>\n",
       "      <td>...</td>\n",
       "      <td>...</td>\n",
       "      <td>...</td>\n",
       "      <td>...</td>\n",
       "      <td>...</td>\n",
       "      <td>...</td>\n",
       "      <td>...</td>\n",
       "      <td>...</td>\n",
       "      <td>...</td>\n",
       "      <td>...</td>\n",
       "      <td>...</td>\n",
       "      <td>...</td>\n",
       "      <td>...</td>\n",
       "      <td>...</td>\n",
       "      <td>...</td>\n",
       "      <td>...</td>\n",
       "      <td>...</td>\n",
       "      <td>...</td>\n",
       "      <td>...</td>\n",
       "    </tr>\n",
       "    <tr>\n",
       "      <td>1267</td>\n",
       "      <td>1635721458409799680</td>\n",
       "      <td>Gaia DR2 665454368759275520</td>\n",
       "      <td>665454368759275520</td>\n",
       "      <td>1001337653</td>\n",
       "      <td>2015.5</td>\n",
       "      <td>128.557705</td>\n",
       "      <td>0.149214</td>\n",
       "      <td>21.397790</td>\n",
       "      <td>0.089588</td>\n",
       "      <td>4.964799</td>\n",
       "      <td>...</td>\n",
       "      <td>NaN</td>\n",
       "      <td>NaN</td>\n",
       "      <td>http://geadata.esac.esa.int/data-server/datali...</td>\n",
       "      <td>NaN</td>\n",
       "      <td>0.004965</td>\n",
       "      <td>201.418006</td>\n",
       "      <td>-136.122823</td>\n",
       "      <td>136.127388</td>\n",
       "      <td>59.237865</td>\n",
       "      <td>10.734773</td>\n",
       "    </tr>\n",
       "    <tr>\n",
       "      <td>1268</td>\n",
       "      <td>1635721458409799680</td>\n",
       "      <td>Gaia DR2 665451860498377088</td>\n",
       "      <td>665451860498377088</td>\n",
       "      <td>1362752145</td>\n",
       "      <td>2015.5</td>\n",
       "      <td>128.536385</td>\n",
       "      <td>0.061445</td>\n",
       "      <td>21.320897</td>\n",
       "      <td>0.041051</td>\n",
       "      <td>5.880749</td>\n",
       "      <td>...</td>\n",
       "      <td>NaN</td>\n",
       "      <td>NaN</td>\n",
       "      <td>http://geadata.esac.esa.int/data-server/datali...</td>\n",
       "      <td>NaN</td>\n",
       "      <td>0.005881</td>\n",
       "      <td>170.046365</td>\n",
       "      <td>-125.026533</td>\n",
       "      <td>107.035715</td>\n",
       "      <td>42.749129</td>\n",
       "      <td>9.135654</td>\n",
       "    </tr>\n",
       "    <tr>\n",
       "      <td>1269</td>\n",
       "      <td>1635721458409799680</td>\n",
       "      <td>Gaia DR2 665549339075127552</td>\n",
       "      <td>665549339075127552</td>\n",
       "      <td>1024171630</td>\n",
       "      <td>2015.5</td>\n",
       "      <td>128.663248</td>\n",
       "      <td>0.049595</td>\n",
       "      <td>21.492953</td>\n",
       "      <td>0.029664</td>\n",
       "      <td>6.390629</td>\n",
       "      <td>...</td>\n",
       "      <td>11.770558</td>\n",
       "      <td>12.089551</td>\n",
       "      <td>http://geadata.esac.esa.int/data-server/datali...</td>\n",
       "      <td>NaN</td>\n",
       "      <td>0.006391</td>\n",
       "      <td>156.479113</td>\n",
       "      <td>-93.910441</td>\n",
       "      <td>107.440850</td>\n",
       "      <td>64.210633</td>\n",
       "      <td>1.967158</td>\n",
       "    </tr>\n",
       "    <tr>\n",
       "      <td>1270</td>\n",
       "      <td>1635721458409799680</td>\n",
       "      <td>Gaia DR2 665454364462163072</td>\n",
       "      <td>665454364462163072</td>\n",
       "      <td>320865889</td>\n",
       "      <td>2015.5</td>\n",
       "      <td>128.559575</td>\n",
       "      <td>0.800033</td>\n",
       "      <td>21.388191</td>\n",
       "      <td>0.487154</td>\n",
       "      <td>4.657021</td>\n",
       "      <td>...</td>\n",
       "      <td>NaN</td>\n",
       "      <td>NaN</td>\n",
       "      <td>http://geadata.esac.esa.int/data-server/datali...</td>\n",
       "      <td>NaN</td>\n",
       "      <td>0.004657</td>\n",
       "      <td>214.729539</td>\n",
       "      <td>-146.822875</td>\n",
       "      <td>143.540575</td>\n",
       "      <td>62.832488</td>\n",
       "      <td>13.611226</td>\n",
       "    </tr>\n",
       "    <tr>\n",
       "      <td>1271</td>\n",
       "      <td>1635721458409799680</td>\n",
       "      <td>Gaia DR2 665454781076135296</td>\n",
       "      <td>665454781076135296</td>\n",
       "      <td>958104732</td>\n",
       "      <td>2015.5</td>\n",
       "      <td>128.580788</td>\n",
       "      <td>0.343130</td>\n",
       "      <td>21.416142</td>\n",
       "      <td>0.209352</td>\n",
       "      <td>5.407553</td>\n",
       "      <td>...</td>\n",
       "      <td>NaN</td>\n",
       "      <td>NaN</td>\n",
       "      <td>http://geadata.esac.esa.int/data-server/datali...</td>\n",
       "      <td>NaN</td>\n",
       "      <td>0.005408</td>\n",
       "      <td>184.926531</td>\n",
       "      <td>-122.434091</td>\n",
       "      <td>125.391693</td>\n",
       "      <td>59.030826</td>\n",
       "      <td>12.872569</td>\n",
       "    </tr>\n",
       "  </tbody>\n",
       "</table>\n",
       "<p>1272 rows × 102 columns</p>\n",
       "</div>"
      ],
      "text/plain": [
       "              solution_id                  designation           source_id  \\\n",
       "0     1635721458409799680  Gaia DR2 659477217391773696  659477217391773696   \n",
       "1     1635721458409799680  Gaia DR2 659489518178180864  659489518178180864   \n",
       "2     1635721458409799680  Gaia DR2 659494740858299264  659494740858299264   \n",
       "3     1635721458409799680  Gaia DR2 659477865932633344  659477865932633344   \n",
       "4     1635721458409799680  Gaia DR2 659485807326329600  659485807326329600   \n",
       "...                   ...                          ...                 ...   \n",
       "1267  1635721458409799680  Gaia DR2 665454368759275520  665454368759275520   \n",
       "1268  1635721458409799680  Gaia DR2 665451860498377088  665451860498377088   \n",
       "1269  1635721458409799680  Gaia DR2 665549339075127552  665549339075127552   \n",
       "1270  1635721458409799680  Gaia DR2 665454364462163072  665454364462163072   \n",
       "1271  1635721458409799680  Gaia DR2 665454781076135296  665454781076135296   \n",
       "\n",
       "      random_index  ref_epoch          ra  ra_error        dec  dec_error  \\\n",
       "0        689622068     2015.5  130.230299  0.027464  18.583010   0.018048   \n",
       "1       1611306417     2015.5  130.184818  0.045786  18.656469   0.028897   \n",
       "2        642953719     2015.5  130.121572  0.097391  18.796278   0.065595   \n",
       "3        210732194     2015.5  130.279972  1.310465  18.626705   0.709726   \n",
       "4       1629776767     2015.5  129.918981  0.120637  18.616257   0.081017   \n",
       "...            ...        ...         ...       ...        ...        ...   \n",
       "1267    1001337653     2015.5  128.557705  0.149214  21.397790   0.089588   \n",
       "1268    1362752145     2015.5  128.536385  0.061445  21.320897   0.041051   \n",
       "1269    1024171630     2015.5  128.663248  0.049595  21.492953   0.029664   \n",
       "1270     320865889     2015.5  128.559575  0.800033  21.388191   0.487154   \n",
       "1271     958104732     2015.5  128.580788  0.343130  21.416142   0.209352   \n",
       "\n",
       "      parallax  ...  lum_percentile_lower  lum_percentile_upper  \\\n",
       "0     5.313191  ...              0.108493              0.111901   \n",
       "1     5.309375  ...              0.250120              0.258365   \n",
       "2     5.498319  ...                   NaN                   NaN   \n",
       "3     5.947697  ...                   NaN                   NaN   \n",
       "4     5.284283  ...                   NaN                   NaN   \n",
       "...        ...  ...                   ...                   ...   \n",
       "1267  4.964799  ...                   NaN                   NaN   \n",
       "1268  5.880749  ...                   NaN                   NaN   \n",
       "1269  6.390629  ...             11.770558             12.089551   \n",
       "1270  4.657021  ...                   NaN                   NaN   \n",
       "1271  5.407553  ...                   NaN                   NaN   \n",
       "\n",
       "                                           datalink_url  epoch_photometry_url  \\\n",
       "0     http://geadata.esac.esa.int/data-server/datali...                   NaN   \n",
       "1     http://geadata.esac.esa.int/data-server/datali...                   NaN   \n",
       "2     http://geadata.esac.esa.int/data-server/datali...                   NaN   \n",
       "3     http://geadata.esac.esa.int/data-server/datali...                   NaN   \n",
       "4     http://geadata.esac.esa.int/data-server/datali...                   NaN   \n",
       "...                                                 ...                   ...   \n",
       "1267  http://geadata.esac.esa.int/data-server/datali...                   NaN   \n",
       "1268  http://geadata.esac.esa.int/data-server/datali...                   NaN   \n",
       "1269  http://geadata.esac.esa.int/data-server/datali...                   NaN   \n",
       "1270  http://geadata.esac.esa.int/data-server/datali...                   NaN   \n",
       "1271  http://geadata.esac.esa.int/data-server/datali...                   NaN   \n",
       "\n",
       "      parallax_arcsec           R           x           y           z  \\\n",
       "0            0.005313  188.210821  128.820690  -22.574302  135.347493   \n",
       "1            0.005309  188.346080  127.864328  -35.766918  133.587751   \n",
       "2            0.005498  181.873761  116.041503  -56.391099  128.189230   \n",
       "3            0.005948  168.132299  107.204420  -21.943910  127.648530   \n",
       "4            0.005284  189.240429  153.433612  -53.312623   97.097017   \n",
       "...               ...         ...         ...         ...         ...   \n",
       "1267         0.004965  201.418006 -136.122823  136.127388   59.237865   \n",
       "1268         0.005881  170.046365 -125.026533  107.035715   42.749129   \n",
       "1269         0.006391  156.479113  -93.910441  107.440850   64.210633   \n",
       "1270         0.004657  214.729539 -146.822875  143.540575   62.832488   \n",
       "1271         0.005408  184.926531 -122.434091  125.391693   59.030826   \n",
       "\n",
       "      magnitude  \n",
       "0      7.554224  \n",
       "1      6.262174  \n",
       "2     10.624763  \n",
       "3     14.511488  \n",
       "4     10.698027  \n",
       "...         ...  \n",
       "1267  10.734773  \n",
       "1268   9.135654  \n",
       "1269   1.967158  \n",
       "1270  13.611226  \n",
       "1271  12.872569  \n",
       "\n",
       "[1272 rows x 102 columns]"
      ]
     },
     "execution_count": 3,
     "metadata": {},
     "output_type": "execute_result"
    }
   ],
   "source": [
    "pleiades4 = pd.read_csv(\"pleiades_4_degrees.csv\")\n",
    "#pleiades4 = data_frame[['ra', 'dec', 'parallax', 'parallax_error', 'pmra', 'pmdec', 'b', 'l']]\n",
    "pleiades4.loc[:, 'parallax_arcsec'] = pleiades4['parallax'].apply(lambda x: x*.001)\n",
    "pleiades4.loc[:, 'R'] = pleiades4['parallax_arcsec'].apply(distance)\n",
    "pleiades4.loc[:, 'x'] = pleiades4.apply(lambda r: x(r['R'], r['b'], r['l']), axis=1)\n",
    "pleiades4.loc[:, 'y'] = pleiades4.apply(lambda r: y(r['R'], r['b'], r['l']), axis=1)\n",
    "pleiades4.loc[:, 'z'] = pleiades4.apply(lambda r: z(r['R'], r['b']), axis=1)\n",
    "pleiades4.loc[:, 'magnitude'] = pleiades4.apply(lambda x: absmag(x['phot_g_mean_mag'], x['R']), axis=1)\n",
    "\n",
    "beehive3 = pd.read_csv(\"beehive3.csv\")\n",
    "#pleiades4 = data_frame[['ra', 'dec', 'parallax', 'parallax_error', 'pmra', 'pmdec', 'b', 'l']]\n",
    "beehive3.loc[:, 'parallax_arcsec'] = beehive3['parallax'].apply(lambda x: x*.001)\n",
    "beehive3.loc[:, 'R'] = beehive3['parallax_arcsec'].apply(distance)\n",
    "beehive3.loc[:, 'x'] = beehive3.apply(lambda r: x(r['R'], r['b'], r['l']), axis=1)\n",
    "beehive3.loc[:, 'y'] = beehive3.apply(lambda r: y(r['R'], r['b'], r['l']), axis=1)\n",
    "beehive3.loc[:, 'z'] = beehive3.apply(lambda r: z(r['R'], r['b']), axis=1)\n",
    "beehive3.loc[:, 'magnitude'] = beehive3.apply(lambda x: absmag(x['phot_g_mean_mag'], x['R']), axis=1)\n",
    "beehive3"
   ]
  },
  {
   "cell_type": "code",
   "execution_count": 16,
   "metadata": {},
   "outputs": [],
   "source": [
    "#train = pleiades4.head(len(pleiades4)*.8)\n",
    "#test = pleiades4.tail(len(pleiades4)*.2)\n",
    "\n",
    "#weighted fractions\n",
    "#from sklearn.cluster import KMeans\n",
    "\n",
    "# create kmeans object, 2 clusters\n",
    "#kmeans = KMeans(n_clusters=2)\n",
    "# fit kmeans object to data\n",
    "#kmeans.fit(train.values) #X = data set excluding name of galaxy\n",
    "# save new clusters for chart\n",
    "#y_km = kmeans.predict(train.values) #or fit_predict\n",
    "\n",
    "#.values - changes pandas dataframe to numpy array\n",
    "#plt.scatter(train.values[:, 0], train.values[:, 1], c=y_km, s=50, cmap='viridis')\n",
    "\n",
    "#centers = kmeans.cluster_centers_\n",
    "#plt.scatter(centers[:, 0], centers[:, 1], c='red', s=200, alpha=0.5)"
   ]
  },
  {
   "cell_type": "code",
   "execution_count": 25,
   "metadata": {},
   "outputs": [],
   "source": [
    "np.random.seed(42)\n",
    "\n",
    "p = pleiades4[['ra', 'dec', 'pmra', 'pmdec', 'b', 'l', 'R', 'x', 'y', 'z']]\n",
    "b = beehive3[['ra', 'dec', 'pmra', 'pmdec', 'b', 'l', 'R', 'x', 'y', 'z']]\n",
    "frames = [p, b]\n",
    "df = pd.concat(frames)\n",
    "\n",
    "def process():\n",
    "    data = scale(df)\n",
    "    n_samples, n_features = data.shape\n",
    "    print(\"n_samples %d, \\t n_features %d\"\n",
    "              % (n_samples, n_features))\n",
    "    return data\n",
    "\n",
    "def kmeans(estimator, name, data):\n",
    "    estimator.fit(data)"
   ]
  },
  {
   "cell_type": "code",
   "execution_count": 26,
   "metadata": {},
   "outputs": [
    {
     "name": "stdout",
     "output_type": "stream",
     "text": [
      "n_samples 2623, \t n_features 10\n"
     ]
    }
   ],
   "source": [
    "data = process()\n",
    "kmeans(KMeans(init='k-means++', n_clusters=2, n_init=10),\n",
    "                  name=\"k-means++\", data=data)\n",
    "\n",
    "kmeans(KMeans(init='random', n_clusters=2, n_init=10),\n",
    "              name=\"random\", data=data)\n"
   ]
  },
  {
   "cell_type": "code",
   "execution_count": 27,
   "metadata": {},
   "outputs": [
    {
     "data": {
      "image/png": "[encoded data removed]",
      "text/plain": [
       "<Figure size 432x288 with 1 Axes>"
      ]
     },
     "metadata": {},
     "output_type": "display_data"
    }
   ],
   "source": [
    "# in this case the seeding of the centers is deterministic, hence we run the\n",
    "# kmeans algorithm only once with n_init=1\n",
    "pca = PCA(n_components=2).fit(data)\n",
    "kmeans(KMeans(init=pca.components_, n_clusters=2, n_init=1),\n",
    "              name=\"PCA-based\",\n",
    "              data=data)\n",
    "\n",
    "reduced_data = PCA(n_components=2).fit_transform(data)\n",
    "km = KMeans(init='k-means++', n_clusters=2, n_init=10)\n",
    "km.fit(reduced_data)\n",
    "\n",
    "# Step size of the mesh. Decrease to increase the quality of the VQ.\n",
    "h = .02  # point in the mesh [x_min, x_max]x[y_min, y_max].\n",
    "\n",
    "# Plot the decision boundary. For that, we will assign a color to each\n",
    "x_min, x_max = reduced_data[:, 0].min() - 1, reduced_data[:, 0].max() + 1\n",
    "y_min, y_max = reduced_data[:, 1].min() - 1, reduced_data[:, 1].max() + 1\n",
    "xx, yy = np.meshgrid(np.arange(x_min, x_max, h), np.arange(y_min, y_max, h))\n",
    "\n",
    "# Obtain labels for each point in mesh. Use last trained model.\n",
    "Z = km.predict(np.c_[xx.ravel(), yy.ravel()])\n",
    "\n",
    "# Put the result into a color plot\n",
    "Z = Z.reshape(xx.shape)\n",
    "plt.figure(1)\n",
    "plt.clf()\n",
    "plt.imshow(Z, interpolation='nearest',\n",
    "           extent=(xx.min(), xx.max(), yy.min(), yy.max()),\n",
    "           cmap=plt.cm.Paired,\n",
    "           aspect='auto', origin='lower')\n",
    "\n",
    "plt.plot(reduced_data[:, 0], reduced_data[:, 1], 'k.', markersize=2)\n",
    "# Plot the centroids as a white X\n",
    "centroids = km.cluster_centers_\n",
    "plt.scatter(centroids[:, 0], centroids[:, 1],\n",
    "            marker='x', s=169, linewidths=3,\n",
    "            color='w', zorder=10)\n",
    "plt.title('K-means clustering on the pleiades4 and beehive3 dataset (PCA-reduced data)\\n'\n",
    "          'Centroids are marked with white cross')\n",
    "plt.xlim(x_min, x_max)\n",
    "plt.ylim(y_min, y_max)\n",
    "plt.xticks(())\n",
    "plt.yticks(())\n",
    "plt.show()"
   ]
  },
  {
   "cell_type": "code",
   "execution_count": 28,
   "metadata": {},
   "outputs": [
    {
     "name": "stdout",
     "output_type": "stream",
     "text": [
      "[[-0.96862384  0.89267696  0.65656893 -0.49469924 -0.96844381 -0.96778877\n",
      "  -0.84254269 -0.0177846   0.21883703 -0.2393799 ]\n",
      " [ 1.0128677  -1.13387673 -0.6778411   0.51740152  1.00481212  1.04061478\n",
      "   0.93902708  0.26345339 -1.49545513 -0.82127869]\n",
      " [ 1.03929407 -0.85532968 -0.70892928  0.53073807  1.04312344  1.02376464\n",
      "   0.87435919 -0.10611198  0.41281574  0.80474608]]\n"
     ]
    }
   ],
   "source": [
    "from sklearn.cluster import KMeans\n",
    "\n",
    "# Number of clusters\n",
    "kmeans = KMeans(n_clusters=3)\n",
    "# Fitting the input data\n",
    "kmeans = kmeans.fit(data)\n",
    "# Getting the cluster labels\n",
    "labels = kmeans.predict(data)\n",
    "# Centroid values\n",
    "centroids = kmeans.cluster_centers_\n",
    "\n",
    "print(centroids)"
   ]
  },
  {
   "cell_type": "markdown",
   "metadata": {},
   "source": [
    "### Below, plotted RA and DEC and b and l\n",
    "Will be finding clusters from there before moving on to 3 dimensions\n",
    "#### using k means algorithm tutorial: http://benalexkeen.com/k-means-clustering-in-python/\n",
    "* Initialisation – K initial “means” (centroids) are generated at random\n",
    "* Assignment – K clusters are created by associating each observation with the nearest centroid\n",
    "* Update – The centroid of the clusters becomes the new mean\n"
   ]
  },
  {
   "cell_type": "code",
   "execution_count": 29,
   "metadata": {},
   "outputs": [
    {
     "data": {
      "image/png": "[encoded data removed]",
      "text/plain": [
       "<Figure size 432x288 with 1 Axes>"
      ]
     },
     "metadata": {
      "needs_background": "light"
     },
     "output_type": "display_data"
    }
   ],
   "source": [
    "plt.scatter(df['ra'], df['dec'])\n",
    "plt.gca().invert_xaxis()\n",
    "plt.xlabel(\"RA\")\n",
    "plt.ylabel(\"Dec\")\n",
    "plt.show()"
   ]
  },
  {
   "cell_type": "code",
   "execution_count": 41,
   "metadata": {},
   "outputs": [
    {
     "data": {
      "image/png": "[encoded data removed]",
      "text/plain": [
       "<Figure size 360x360 with 1 Axes>"
      ]
     },
     "metadata": {
      "needs_background": "light"
     },
     "output_type": "display_data"
    }
   ],
   "source": [
    "data = df[['ra', 'dec']]\n",
    "np.random.seed(500)\n",
    "k = 2\n",
    "# centroids[i] = [x, y]\n",
    "centroids = {\n",
    "    i+1: [np.random.randint(0, 140), np.random.randint(0, 140)]\n",
    "    for i in range(k)\n",
    "}\n",
    "\n",
    "fig = plt.figure(figsize=(5, 5))\n",
    "plt.scatter(data['ra'], data['dec'], color='k')\n",
    "colmap = {1: 'r', 2: 'g', 3: 'b'}\n",
    "for i in centroids.keys():\n",
    "    plt.scatter(*centroids[i], color=colmap[i])\n",
    "plt.show()"
   ]
  },
  {
   "cell_type": "code",
   "execution_count": 43,
   "metadata": {},
   "outputs": [
    {
     "name": "stdout",
     "output_type": "stream",
     "text": [
      "          ra        dec  distance_from_1  distance_from_2  closest color\n",
      "0  56.583196  25.475364        51.757894        39.966874        2     g\n",
      "1  56.156051  25.137591        52.291725        39.592476        2     g\n",
      "2  56.214727  25.087781        52.291777        39.657902        2     g\n",
      "3  56.134121  25.136601        52.306676        39.570935        2     g\n",
      "4  56.316027  25.109959        52.209438        39.754781        2     g\n"
     ]
    },
    {
     "data": {
      "image/png": "[encoded data removed]",
      "text/plain": [
       "<Figure size 360x360 with 1 Axes>"
      ]
     },
     "metadata": {
      "needs_background": "light"
     },
     "output_type": "display_data"
    }
   ],
   "source": [
    "## Assignment Stage\n",
    "from ipykernel import kernelapp as app\n",
    "\n",
    "def assignment(df, centroids):\n",
    "    for i in centroids.keys():\n",
    "        # sqrt((x1 - x2)^2 - (y1 - y2)^2)\n",
    "        data['distance_from_{}'.format(i)] = (\n",
    "            np.sqrt(\n",
    "                (df['ra'] - centroids[i][0]) ** 2\n",
    "                + (df['dec'] - centroids[i][1]) ** 2\n",
    "            )\n",
    "        )\n",
    "    centroid_distance_cols = ['distance_from_{}'.format(i) for i in centroids.keys()]\n",
    "    df['closest'] = df.loc[:, centroid_distance_cols].idxmin(axis=1)\n",
    "    df['closest'] = df['closest'].map(lambda x: int(x.lstrip('distance_from_')))\n",
    "    df['color'] = df['closest'].map(lambda x: colmap[x])\n",
    "    return df\n",
    "\n",
    "data = assignment(data, centroids)\n",
    "print(data.head())\n",
    "\n",
    "fig = plt.figure(figsize=(5, 5))\n",
    "plt.scatter(data['ra'], data['dec'], color=data['color'], alpha=0.5, edgecolor='k')\n",
    "for i in centroids.keys():\n",
    "    plt.scatter(*centroids[i], color=colmap[i])\n",
    "plt.show()"
   ]
  },
  {
   "cell_type": "code",
   "execution_count": 45,
   "metadata": {},
   "outputs": [
    {
     "data": {
      "image/png": "[encoded data removed]",
      "text/plain": [
       "<Figure size 360x360 with 1 Axes>"
      ]
     },
     "metadata": {
      "needs_background": "light"
     },
     "output_type": "display_data"
    }
   ],
   "source": [
    "## Update Stage\n",
    "\n",
    "import copy\n",
    "\n",
    "old_centroids = copy.deepcopy(centroids)\n",
    "\n",
    "def update(k):\n",
    "    for i in centroids.keys():\n",
    "        centroids[i][0] = np.mean(df[df['closest'] == i]['ra'])\n",
    "        centroids[i][1] = np.mean(df[df['closest'] == i]['dec'])\n",
    "    return k\n",
    "\n",
    "centroids = update(centroids)\n",
    "    \n",
    "fig = plt.figure(figsize=(5, 5))\n",
    "ax = plt.axes()\n",
    "plt.scatter(data['ra'], data['dec'], color=data['color'], alpha=0.5, edgecolor='k')\n",
    "for i in centroids.keys():\n",
    "    plt.scatter(*centroids[i], color=colmap[i])\n",
    "for i in old_centroids.keys():\n",
    "    old_ra = old_centroids[i][0]\n",
    "    old_dec = old_centroids[i][1]\n",
    "    dra = (centroids[i][0] - old_centroids[i][0]) * 0.75\n",
    "    ddec = (centroids[i][1] - old_centroids[i][1]) * 0.75\n",
    "    ax.arrow(old_ra, old_dec, dra, ddec, head_width=2, head_length=3, fc=colmap[i], ec=colmap[i])\n",
    "plt.show()"
   ]
  },
  {
   "cell_type": "code",
   "execution_count": 48,
   "metadata": {},
   "outputs": [
    {
     "data": {
      "text/plain": [
       "KMeans(algorithm='auto', copy_x=True, init='k-means++', max_iter=300,\n",
       "       n_clusters=2, n_init=10, n_jobs=None, precompute_distances='auto',\n",
       "       random_state=None, tol=0.0001, verbose=0)"
      ]
     },
     "execution_count": 48,
     "metadata": {},
     "output_type": "execute_result"
    }
   ],
   "source": [
    "data2 = df[['ra', 'dec']]\n",
    "from sklearn.cluster import KMeans\n",
    "\n",
    "#fit to the data\n",
    "kmeans = KMeans(n_clusters=2)\n",
    "kmeans.fit(data2)"
   ]
  },
  {
   "cell_type": "code",
   "execution_count": 60,
   "metadata": {},
   "outputs": [
    {
     "data": {
      "text/plain": [
       "array([[ 56.56454553,  24.06039959],\n",
       "       [130.00189746,  19.85581862]])"
      ]
     },
     "execution_count": 60,
     "metadata": {},
     "output_type": "execute_result"
    }
   ],
   "source": [
    "#learn the labels\n",
    "labels = kmeans.predict(data2)\n",
    "centroids = kmeans.cluster_centers_\n",
    "centroids"
   ]
  },
  {
   "cell_type": "code",
   "execution_count": 58,
   "metadata": {},
   "outputs": [
    {
     "data": {
      "image/png": "[encoded data removed]",
      "text/plain": [
       "<Figure size 360x360 with 1 Axes>"
      ]
     },
     "metadata": {
      "needs_background": "light"
     },
     "output_type": "display_data"
    }
   ],
   "source": [
    "fig = plt.figure(figsize=(5, 5))\n",
    "\n",
    "colors = map(lambda x: colmap[x+1], labels)\n",
    "\n",
    "#plot it\n",
    "plt.scatter(data2['ra'], data2['dec'], alpha=0.5, edgecolor='k') #colors=colors didn't work\n",
    "\n",
    "#plots centroids to respective centers\n",
    "for idx, centroid in enumerate(centroids):\n",
    "    plt.scatter(*centroid, color=colmap[idx+1])\n",
    "    \n",
    "plt.show()"
   ]
  },
  {
   "cell_type": "markdown",
   "metadata": {},
   "source": [
    "Important points\n",
    "* normalize data - due to Euclidean distance between k means clusters\n",
    "* symmetries in your data = some of the labels may be mis-labelled\n",
    "* repeat - do the same k-means with different initial centroids and take the most common label"
   ]
  },
  {
   "cell_type": "code",
   "execution_count": 38,
   "metadata": {},
   "outputs": [
    {
     "data": {
      "image/png": "[encoded data removed]",
      "text/plain": [
       "<Figure size 432x288 with 1 Axes>"
      ]
     },
     "metadata": {
      "needs_background": "light"
     },
     "output_type": "display_data"
    }
   ],
   "source": [
    "plt.scatter(df['b'], df['l'])\n",
    "plt.gca().invert_xaxis()\n",
    "plt.xlabel(\"b\")\n",
    "plt.ylabel(\"l\")\n",
    "plt.show()"
   ]
  },
  {
   "cell_type": "code",
   "execution_count": null,
   "metadata": {},
   "outputs": [],
   "source": []
  }
 ],
 "metadata": {
  "kernelspec": {
   "display_name": "Python 3",
   "language": "python",
   "name": "python3"
  },
  "language_info": {
   "codemirror_mode": {
    "name": "ipython",
    "version": 3
   },
   "file_extension": ".py",
   "mimetype": "text/x-python",
   "name": "python",
   "nbconvert_exporter": "python",
   "pygments_lexer": "ipython3",
   "version": "3.7.3"
  }
 },
 "nbformat": 4,
 "nbformat_minor": 2
}
